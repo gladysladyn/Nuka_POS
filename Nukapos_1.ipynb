# Import Library

!pip install faker bcrypt

from faker import Faker
import random
from datetime import datetime, timedelta
from dateutil.relativedelta import relativedelta
import pandas as pd
import numpy as np
import os
import json
import bcrypt

fake = Faker('id_ID')

# Generate Function

## Kelompok 1

### 1. roles

def generate_roles():
    """Membuat data dummy untuk tabel roles."""
    roles_data = [
        {'id': 1, 'roleName': 'Superadmin'},
        {'id': 2, 'roleName': 'Owner'},
        {'id': 3, 'roleName': 'Admin Toko'},
        {'id': 4, 'roleName': 'Kasir'}
    ]
    return pd.DataFrame(roles_data)

roles_df = generate_roles()
roles_df.to_csv('roles.csv', index=False)
print("Data roles.csv berhasil dibuat.")

pd.read_csv('roles.csv')

### 2. store_types

def generate_store_types():
    """Membuat data dummy untuk tabel store_types."""
    store_types_data = [
        {'id': 1, 'name': 'Makanan & Minuman'},
        {'id': 2, 'name': 'Fashion & Aksesoris'},
        {'id': 3, 'name': 'Perawatan Diri & Kecantikan'},
        {'id': 4, 'name': 'Kebutuhan Kesehatan'},
        {'id': 5, 'name': 'Rumah Tangga & Dekorasi'},
        {'id': 6, 'name': 'Peralatan Bayi & Anak'},
        {'id': 7, 'name': 'Mainan, Hobi & Peralatan Outdoor'},
        {'id': 8, 'name': 'Elektronik & Gadget'},
        {'id': 9, 'name': 'Pertanian, Perkebunan & Peternakan'},
        {'id': 10, 'name': 'Otomotif & Suku Cadang'},
        {'id': 11, 'name': 'Perlengkapan Hewan Peliharaan'},
        {'id': 12, 'name': 'Minimarket & Kelontong'},
    ]
    return pd.DataFrame(store_types_data)

store_types_df = generate_store_types()
store_types_df.to_csv('store_types.csv', index=False)
print("Data store_types.csv berhasil dibuat.")

pd.read_csv('store_types.csv')

### 3. payment_methods

def generate_payment_methods():
    """Membuat data dummy untuk tabel payment_methods."""
    now = datetime.now()
    payment_methods_data = [
        {'id': 1, 'name': 'Tunai', 'image': None, 'isCash': 'YES', 'createdAt': now, 'updatedAt': now},
        {'id': 2, 'name': 'Debit Card', 'image': 'debit_card.jpg', 'isCash': 'NO', 'createdAt': now, 'updatedAt': now},
        {'id': 3, 'name': 'QRIS', 'image': 'qris.jpg', 'isCash': 'NO', 'createdAt': now, 'updatedAt': now},
        {'id': 4, 'name': 'Gopay', 'image': 'gopay.png', 'isCash': 'NO', 'createdAt': now, 'updatedAt': now},
        {'id': 5, 'name': 'OVO', 'image': 'ovo.png', 'isCash': 'NO', 'createdAt': now, 'updatedAt': now},
        {'id': 6, 'name': 'Dana', 'image': 'dana.png', 'isCash': 'NO', 'createdAt': now, 'updatedAt': now}
    ]
    return pd.DataFrame(payment_methods_data)

payment_methods_df = generate_payment_methods()
payment_methods_df.to_csv('payment_methods.csv', index=False)
print("Data payment_methods.csv berhasil dibuat.")

pd.read_csv('payment_methods.csv')

### 4. product_categories

# --- Data Mapping ---
product_category_fnb_stores = {
    1: "Daging Beku",
    2: "Makanan Beku",
    3: "Makanan Instant",
    4: "Dessert",
    5: "Ice Cream",
    6: "Menu Sarapan",
    7: "Minuman",
    8: "Nasi Goreng",
    9: "Mie Goreng",
    10: "Kwetiaw",
    11: "Snack",
    12: "Menu Kremes"
}

product_category_fashion_stores = {
    1: "Pakaian Pria",
    2: "Pakaian Wanita",
    3: "Sepatu",
    4: "Sandal",
    5: "Tas",
    6: "Pakaian Bayi",
    7: "Aksesoris",
    8: "Kacamata",
    9: "Jam Tangan",
    10: "Pakaian Anak-anak",
}

product_category_cosmetics_stores = {
    1: "Sabun Wajah",
    2: "Toner",
    3: "Serum",
    4: "Moistruizer",
    5: "Sunscreen Wajah",
    6: "Foundation",
    7: "Bedak",
    8: "Lipstik",
    9: "Maskara",
    10: "Shampoo",
    11: "Conditioner",
    12: "Pomade",
    13: "Parfum",
    14: "Deodoran",
    15: "Sisir",
    16: "Hairdreyer",
    17: "Catokan",
    18: "Hand Cream"
}

product_category_pharmacy_stores = {
    1: "Obat Bebas & Suplemen",
    2: "Alat Kesehatan",
    3: "Minuman Kesehatan",
    4: "Perawatan Luka",
    5: "Produk Kebersihan",
    6: "Alat Bantu Kesehatan"
}

product_category_household_stores = {
    1: "Peralatan Dapur",
    2: "Alat Kebersihan",
    3: "Dekorasi Rumah",
    4: "Perabotan Kecil",
    5: "Gorden, Karpet & Keset",
    6: "Tempat Penyimpanan"
}

product_category_baby_child_stores = {
    1: "Popok Bayi",
    2: "Perlengkapan Mandi",
    3: "Pakaian Bayi",
    4: "Pakaian Anak-anak",
    5: "Susu Formula",
    6: "Makanan Bayi",
    7: "Mainan Edukasi",
    8: "Perlengkapan Makan Bayi",
    9: "Stroller",
    10: "Car Seat"
}

product_category_hobby_stores = {
    1: "Mainan Anak",
    2: "Peralatan Olahraga",
    3: "Alat Pancing",
    4: "Teleskop",
    5: "Peralatan Camping",
    6: "Action Figure & Koleksi Hobi"
}

product_category_electronic_stores = {
    1: "Smartphone",
    2: "Laptop",
    3: "Proyektor",
    4: "Kamera",
    5: "Drone",
    6: "Mouse",
    7: "Keyboard",
    8: "Cooling Pad",
    9: "Charger Smartphone",
    10: "Power Bank",
    11: "Earphone",
    12: "Controller",
    13: "Headset",
    14: "Microphone",
    15: "TWS"
}

product_category_agriculture_stores = {
    1: "Pupuk dan Obat Tanaman",
    2: "Benih dan Bibit Tanaman",
    3: "Alat berkebun"
}

product_category_automotive_stores = {
    1: "Oli dan Cairan Kendaraan",
    2: "Aksesoris Mobil",
    3: "Aksesoris Motor",
    4: "Lampu Kendaraan",
    5: "Ban dan Sparepart",
    6: "Alat Servis Kendaraan",
    7: "Jasa",
}

product_category_pet = {
    1: "Makanan Kucing",
    2: "Makanan Anjing",
    3: "Aksesoris Kandang",
    4: "Obat & Vitamin Hewan"
}

product_category_minimarket_stores = {
    1: "Sembako",
    2: "Makanan Ringan",
    3: "Minuman Kemasan",
    4: "Rokok",
    5: "Kebutuhan sehari-hari",
    6: "Peralatan Mandi & Kebersihan",
    7: "Obat-obatan Ringan",
    8: "Alat Tulis Kantor"
}


category_mapping = {
        "Makanan & Minuman": product_category_fnb_stores,
        "Fashion & Aksesoris": product_category_fashion_stores,
        "Perawatan Diri & Kecantikan": product_category_cosmetics_stores,
        "Kebutuhan Kesehatan": product_category_pharmacy_stores,
        "Rumah Tangga & Dekorasi": product_category_household_stores,
        "Peralatan Bayi & Anak": product_category_baby_child_stores,
        "Mainan, Hobi & Peralatan Outdoor": product_category_hobby_stores,
        "Elektronik & Gadget": product_category_electronic_stores,
        "Pertanian, Perkebunan & Peternakan": product_category_agriculture_stores,
        "Otomotif & Suku Cadang": product_category_automotive_stores,
        "Perlengkapan Hewan Peliharaan": product_category_pet,
        "Minimarket & Kelontong": product_category_minimarket_stores,
}
# --- Akhir Data Mapping ---


# --- FUNGSI GENERATE BARU ---
def generate_product_categories(category_mapping):
    """
    Membuat data dummy untuk tabel product_categories secara dinamis
    dari semua kategori yang ada di dalam category_mapping.
    """
    now = datetime.now()
    categories_data = []
    category_names_set = set()
    category_id_counter = 1

    # Loop melalui setiap sub-dictionary dalam category_mapping
    for store_type, categories_dict in category_mapping.items():
        for category_id, category_name in categories_dict.items():
            # Hanya tambahkan jika nama kategori belum ada (menghindari duplikasi)
            if category_name not in category_names_set:
                categories_data.append({
                    'id': category_id_counter,
                    'name': category_name,
                    'createdAt': now,
                    'updatedAt': now
                })
                category_names_set.add(category_name)
                category_id_counter += 1

    return pd.DataFrame(categories_data)


product_categories_df = generate_product_categories(category_mapping)
product_categories_df.to_csv('product_categories.csv', index=False)
print("Data product_categories.csv berhasil dibuat secara dinamis.")

pd.read_csv('product_categories.csv')

### 5. variant_types

variant_type_mapping_by_store = {
    'Makanan & Minuman': ['Ukuran', 'Rasa', 'Tipe Kemasan'],
    'Fashion & Aksesoris': ['Ukuran', 'Warna', 'Bahan'],
    'Perawatan Diri & Kecantikan': ['Warna', 'Aroma', 'Kandungan'],
    'Kebutuhan Kesehatan': ['Dosis', 'Tipe Kemasan', 'Jenis Obat'],
    'Rumah Tangga & Dekorasi': ['Warna', 'Ukuran', 'Material'],
    'Peralatan Bayi & Anak': ['Ukuran', 'Bahan', 'Merek'],
    'Mainan, Hobi & Peralatan Outdoor': ['Tipe', 'Ukuran', 'Material'],
    'Elektronik & Gadget': ['Warna', 'Kapasitas', 'Tipe'],
    'Pertanian, Perkebunan & Peternakan': ['Berat', 'Tipe Kemasan', 'Jenis Tanaman'],
    'Otomotif & Suku Cadang': ['Jenis', 'Merek', 'Ukuran'],
    'Perlengkapan Hewan Peliharaan': ['Berat', 'Rasa', 'Tipe'],
    'Minimarket & Kelontong': ['Tipe Kemasan', 'Ukuran', 'Rasa'],
}

def generate_variant_types_revised(variant_type_mapping):
    """
    Membuat data dummy untuk tabel variant_types berdasarkan semua
    tipe varian unik dari mapping toko.
    """
    now = datetime.now()
    variant_types_data = []
    variant_names_set = set()
    variant_id_counter = 1

    # Kumpulkan semua tipe varian unik
    for types_list in variant_type_mapping.values():
        for variant_name in types_list:
            if variant_name not in variant_names_set:
                variant_types_data.append({
                    'id': variant_id_counter,
                    'name': variant_name,
                    'createdAt': now,
                    'updatedAt': now
                })
                variant_names_set.add(variant_name)
                variant_id_counter += 1

    return pd.DataFrame(variant_types_data)

# --- EKSEKUSI ---
# Catatan: Gunakan `variant_type_mapping_by_store` untuk eksekusi
variant_types_df = generate_variant_types_revised(variant_type_mapping_by_store)
variant_types_df.to_csv('variant_types.csv', index=False)
print("Data variant_types.csv berhasil dibuat.")

pd.read_csv('variant_types.csv')

### 6. provinces, cities, districts, villages

# --- URLs API Wilayah ---
PROVINCES_URL = "https://wilayah.id/api/provinces.json"
REGENCIES_URL = "https://wilayah.id/api/regencies/{PROVINCE_CODE}.json"
DISTRICTS_URL = "https://wilayah.id/api/districts/{REGENCY_CODE}.json"
VILLAGES_URL = "https://wilayah.id/api/villages/{DISTRICT_CODE}.json"

# --- FUNGSI BARU UNTUK MENGAMBIL DATA ---

def generate_locations_from_api():
    """
    Mengambil data wilayah (provinces, cities/regencies, districts, villages)
    dari API wilayah.id.
    """
    now = datetime.now()
    provinces_data = []
    cities_data = []
    districts_data = []
    villages_data = []

    print("Memulai pengambilan data dari API (Provinces -> Regencies -> Districts -> Villages)...")

    # 1. Ambil Data Provinsi
    try:
        response = requests.get(PROVINCES_URL)
        response.raise_for_status()
        provinces_api = response.json().get('data', [])
    except requests.exceptions.RequestException as e:
        print(f"Error mengambil data provinsi: {e}")
        return pd.DataFrame(), pd.DataFrame(), pd.DataFrame(), pd.DataFrame()

    provinces_to_process = provinces_api
    print(f"Berhasil mengambil {len(provinces_to_process)} provinsi).")

    for prov in provinces_to_process:
        prov_code_api = prov['code'] # Kode asli untuk URL (e.g., '11')
        prov_code_int = int(prov_code_api.replace('.', '')) # ID integer untuk DB (e.g., 11)

        provinces_data.append({
            'id': prov_code_int, # Menggunakan ID integer
            'name': prov['name'],
            'createdAt': now,
            'updatedAt': now
        })

        # 2. Ambil Data Kota/Kabupaten (Regencies)
        try:
            # Gunakan kode API asli untuk URL
            regencies_url = REGENCIES_URL.format(PROVINCE_CODE=prov_code_api)
            response = requests.get(regencies_url)
            response.raise_for_status()
            regencies_api = response.json().get('data', [])
        except requests.exceptions.RequestException as e:
            print(f"Peringatan: Error mengambil data kota/kabupaten untuk {prov['name']}: {e}")
            continue

        for reg in regencies_api:
            reg_code_api = reg['code'] # Kode asli untuk URL (e.g., '11.05')
            reg_code_int = int(reg_code_api.replace('.', '')) # ID integer untuk DB (e.g., 1105)

            cities_data.append({
                'id': reg_code_int, # Menggunakan ID integer
                'provinceId': prov_code_int, # Menggunakan ID integer
                'name': reg['name'],
                'createdAt': now,
                'updatedAt': now
            })

            # 3. Ambil Data Kecamatan (Districts)
            try:
                # Gunakan kode API asli untuk URL
                districts_url = DISTRICTS_URL.format(REGENCY_CODE=reg_code_api)
                response = requests.get(districts_url)
                response.raise_for_status()
                districts_api = response.json().get('data', [])
            except requests.exceptions.RequestException as e:
                print(f"Peringatan: Error mengambil data kecamatan untuk {reg['name']}: {e}")
                continue

            for dist in districts_api:
                dist_code_api = dist['code'] # Kode asli untuk URL (e.g., '11.05.01')
                dist_code_int = int(dist_code_api.replace('.', '')) # ID integer untuk DB (e.g., 110501)

                districts_data.append({
                    'id': dist_code_int, # Menggunakan ID integer
                    'cityId': reg_code_int, # Menggunakan ID integer
                    'name': dist['name'],
                    'createdAt': now,
                    'updatedAt': now
                })

                # 4. Ambil Data Desa/Kelurahan (Villages)
                try:
                    # Gunakan kode API asli untuk URL
                    villages_url = VILLAGES_URL.format(DISTRICT_CODE=dist_code_api)
                    response = requests.get(villages_url)
                    response.raise_for_status()
                    villages_api = response.json().get('data', [])
                except requests.exceptions.RequestException as e:
                    print(f"Peringatan: Error mengambil data desa/kelurahan untuk {dist['name']}: {e}")

                    # Jika gagal, masukkan 3 dummy villages
                    for i in range(3):
                        villages_data.append({
                            # Gunakan dist_code_int yang sudah bersih untuk ID fallback
                            'id': int(f'{dist_code_int}00{i+1}'),
                            'districtId': dist_code_int, # Menggunakan ID integer
                            'name': fake.city_prefix() + ' ' + fake.city_suffix(),
                            'createdAt': now,
                            'updatedAt': now
                        })
                    continue

                for village in villages_api:
                    village_code_api = village['code'] # Kode asli (e.g., '11.05.01.2001')
                    village_code_int = int(village_code_api.replace('.', '')) # ID integer (e.g., 1105012001)

                    villages_data.append({
                        'id': village_code_int, # Menggunakan ID integer
                        'districtId': dist_code_int, # Menggunakan ID integer
                        'name': village['name'],
                        'createdAt': now,
                        'updatedAt': now
                    })

    # Konversi ke DataFrame: Periksa jika data kosong sebelum konversi
    if provinces_data:
        # Jika data ada, buat DataFrame
        provinces_df = pd.DataFrame(provinces_data).astype({'id': 'int64'})
        cities_df = pd.DataFrame(cities_data).astype({'id': 'int64', 'provinceId': 'int64'})
        districts_df = pd.DataFrame(districts_data).astype({'id': 'int64', 'cityId': 'int64'})
        villages_df = pd.DataFrame(villages_data).astype({'id': 'int64', 'districtId': 'int64'})
    else:
        # Jika provinces_data kosong, buat DataFrame kosong dengan kolom yang benar
        provinces_df = pd.DataFrame(columns=['id', 'name', 'createdAt', 'updatedAt'])
        cities_df = pd.DataFrame(columns=['id', 'provinceId', 'name', 'createdAt', 'updatedAt'])
        districts_df = pd.DataFrame(columns=['id', 'cityId', 'name', 'createdAt', 'updatedAt'])
        villages_df = pd.DataFrame(columns=['id', 'districtId', 'name', 'createdAt', 'updatedAt'])

    print(f"\nSelesai. Total data yang diambil:")
    print(f"- Provinces: {len(provinces_df)}")
    print(f"- Cities: {len(cities_df)}")
    print(f"- Districts: {len(districts_df)}")
    print(f"- Villages: {len(villages_df)}")

    return provinces_df, cities_df, districts_df, villages_df

# --- EKSEKUSI ---
provinces_df, cities_df, districts_df, villages_df = generate_locations_from_api()

# --- SIMPAN KE CSV ---
provinces_df.to_csv('provinces.csv', index=False)
cities_df.to_csv('cities.csv', index=False)
districts_df.to_csv('districts.csv', index=False)
villages_df.to_csv('villages.csv', index=False)
print("\nData lokasi (provinces, cities, districts, villages) berhasil diperbarui secara lengkap dari API dan disimpan ke CSV.")

pd.read_csv('provinces.csv')

pd.read_csv('cities.csv')

pd.read_csv('districts.csv')

pd.read_csv('villages.csv')

## Kelompok 2

### Read dari Kelompok 1

print("Membaca data dari file CSV Kelompok 1...")
try:
    roles_df = pd.read_csv('roles.csv')
    provinces_df = pd.read_csv('provinces.csv')
    cities_df = pd.read_csv('cities.csv')
    districts_df = pd.read_csv('districts.csv')
    villages_df = pd.read_csv('villages.csv')
    store_types_df = pd.read_csv('store_types.csv')
    product_categories_df = pd.read_csv('product_categories.csv')
    variant_types_df = pd.read_csv('variant_types.csv')
    print("Berhasil membaca semua file CSV Kelompok 1.")
except FileNotFoundError as e:
    print(f"Error: {e}")
    # Keluar dari skrip jika file tidak ditemukan
    exit()

### 1. users

# Membutuhkan data dari: roles
def generate_users(roles_df, count=500):
    """Membuat data dummy untuk tabel users."""
    users_data = []

    # Distribusi peran pengguna
    role_weights = {
        'Superadmin': 1,  # Paling sedikit
        'Owner': 5,
        'Admin Toko': 10,
        'Kasir': 20,
    }

    roles = roles_df['roleName'].tolist()
    final_weights = [role_weights.get(role, 0) for role in roles]

    # Menghasilkan daftar roleId berdasarkan bobot
    role_ids = random.choices(roles_df['id'].tolist(), weights=final_weights, k=count)

    for i in range(count):
        # Menggunakan ID besar sesuai tipe data bigint
        user_id = 100000 + i
        email = fake.unique.email()
        password_hash = bcrypt.hashpw(fake.password(length=12).encode('utf-8'), bcrypt.gensalt()).decode('utf-8')

        users_data.append({
            'id': user_id,
            'name': fake.name(),
            'email': email,
            'password': password_hash,
            'imageUrl': fake.image_url(),
            'phoneNumber': fake.phone_number(),
            'isEmailVerified': random.choice([0, 1]),
            'idCard': fake.unique.ssn(),
            'idCardImage': fake.image_url(),
            'npwp': str(fake.unique.bban()),
            'npwpImage': fake.image_url(),
            'googleId': None,
            'roleId': role_ids[i],
            'createdAt': datetime.now(),
            'verifiedAt': datetime.now() if random.choice([True, False]) else None,
            'updatedAt': datetime.now()
        })

    return pd.DataFrame(users_data)

# Tabel users
users_df = generate_users(roles_df)
users_df.to_csv('users.csv', index=False)
print("Data users.csv berhasil dibuat.")

pd.read_csv('users.csv')

### 2. tenants

# Membutuhkan data dari: users, provinces, cities, districts, villages
def generate_tenants(users_df, provinces_df, cities_df, districts_df, villages_df, count=10):
    """Membuat data dummy untuk tabel tenants."""
    tenants_data = []

    # Ambil user dengan peran 'Owner'
    owner_role_id = roles_df[roles_df['roleName'] == 'Owner']['id'].values[0]
    owner_users = users_df[users_df['roleId'] == owner_role_id].sample(min(count, len(users_df))).values

    # Pastikan ada user dengan peran owner
    if len(owner_users) == 0:
        print("Peringatan: Tidak ada user dengan peran 'Owner'. Membuat tenant gagal.")
        return pd.DataFrame(tenants_data)

    for i in range(count):
        # Pilih user (owner) secara acak untuk tenant
        user = owner_users[i]
        user_id = user[0]

        # Pilih lokasi secara acak
        province = provinces_df.sample(1).iloc[0]
        city = cities_df[cities_df['provinceId'] == province['id']].sample(1).iloc[0]
        district = districts_df[districts_df['cityId'] == city['id']].sample(1).iloc[0]
        village = villages_df[villages_df['districtId'] == district['id']].sample(1).iloc[0]

        tenants_data.append({
            'id': i + 1,
            'userId': user_id,
            'name': fake.company(),
            'npwp': str(fake.bban()),
            'npwpImage': fake.image_url(),
            'address': fake.address(),
            'provinceId': province['id'],
            'cityId': city['id'],
            'districtId': district['id'],
            'villageId': village['id'],
            'postalCode': fake.postcode(),
            'status': 'ACTIVE',
            'createdAt': datetime.now(),
            'updatedAt': datetime.now()
        })

    return pd.DataFrame(tenants_data)

# Tabel tenants
tenants_df = generate_tenants(users_df, provinces_df, cities_df, districts_df, villages_df)
tenants_df.to_csv('tenants.csv', index=False)
print("Data tenants.csv berhasil dibuat.")

pd.read_csv('tenants.csv')

### 3. stores

# Membutuhkan data dari: tenants, provinces, cities, districts, villages, store_types
def generate_stores(tenants_df, provinces_df, cities_df, districts_df, villages_df, store_types_df, count=20):
    """Membuat data dummy untuk tabel stores."""
    stores_data = []

    for i in range(count):
        tenant = tenants_df.sample(1).iloc[0]

        # Pilih lokasi secara acak
        province = provinces_df.sample(1).iloc[0]
        city = cities_df[cities_df['provinceId'] == province['id']].sample(1).iloc[0]
        district = districts_df[districts_df['cityId'] == city['id']].sample(1).iloc[0]
        village = villages_df[villages_df['districtId'] == district['id']].sample(1).iloc[0]

        stores_data.append({
            'id': i + 1,
            'storeCode': fake.unique.bothify(text='ST-###??').upper(),
            'tenantId': tenant['id'],
            'name': fake.company(),
            'address': fake.address(),
            'email': fake.unique.company_email(),
            'image': fake.image_url(),
            'provinceId': province['id'],
            'cityId': city['id'],
            'districtId': district['id'],
            'villageId': village['id'],
            'storeTypeId': store_types_df.sample(1).iloc[0]['id'],
            'postalCode': fake.postcode(),
            'description': fake.text(max_nb_chars=200),
            'phoneNumber': fake.phone_number(),
            'logo': fake.image_url(),
            'permitCertificate': fake.image_url(),
            'status': 'ACTIVE',
            'createdAt': datetime.now(),
            'updatedAt': datetime.now()
        })

    return pd.DataFrame(stores_data)

# Tabel stores
stores_df = generate_stores(tenants_df, provinces_df, cities_df, districts_df, villages_df, store_types_df)
stores_df.to_csv('stores.csv', index=False)
print("Data stores.csv berhasil dibuat.")

pd.read_csv('stores.csv')

### 4. products

# Membutuhkan data dari: product_categories
def generate_products(product_categories_df, count=500):
    """Membuat data dummy untuk tabel products."""
    products_data = []
    for i in range(count):
        products_data.append({
            'id': 10000000 + i, # Menggunakan ID besar sesuai tipe data bigint
            'productCode': fake.ean13(),
            'serialNumber': random.randint(1000, 9999),
            'productCategoryId': random.choice(product_categories_df['id'].tolist()),
            'name': fake.catch_phrase(),
            'description': fake.text(max_nb_chars=200),
            'discount': random.randint(0, 20),
            'basePrice': random.randint(5000, 500000),
            'imageUrl': fake.image_url(),
            'isActive': random.choice([0, 1]),
            'createdAt': datetime.now(),
            'updatedAt': datetime.now()
        })
    return pd.DataFrame(products_data)

# Tabel products
products_df = generate_products(product_categories_df)
products_df.to_csv('products.csv', index=False)
print("Data products.csv berhasil dibuat.")

pd.read_csv('products.csv')

### 5. variants

# Membutuhkan data dari: products
def generate_variants(products_df, count=150):
    """Membuat data dummy untuk tabel variants."""
    variants_data = []
    products_with_variants = products_df.sample(count, replace=False)

    for i, product_id in enumerate(products_with_variants['id'].tolist()):
        variants_data.append({
            'id': 100000 + i,
            'productId': product_id,
            'createdAt': datetime.now(),
            'updatedAt': datetime.now()
        })

    return pd.DataFrame(variants_data)

# Tabel variants
variants_df = generate_variants(products_df)
variants_df.to_csv('variants.csv', index=False)
print("Data variants.csv berhasil dibuat.")

pd.read_csv('variants.csv')

### 6. variant_options

# Membutuhkan data dari: variant_types, variants (for foreign key)
def generate_variant_options(variant_types_df, variants_df):
    """Membuat data dummy untuk tabel variant_options dan mengisinya."""
    variant_options_data = []

    # Opsi varian untuk setiap tipe varian
    options_by_type = {
        'Ukuran': ['S', 'M', 'L', 'XL'],
        'Warna': ['Merah', 'Biru', 'Hijau', 'Hitam', 'Putih'],
        'Rasa': ['Original', 'Cokelat', 'Strawberry', 'Vanila'],
        'Bahan': ['Katun', 'Poliester', 'Sintetis'],
        'Tipe': ['A', 'B', 'C', 'D']
    }

    option_id_counter = 1
    # Buat opsi varian untuk setiap varian yang ada di tabel `variants`
    for variant_id in variants_df['id'].tolist():
        # Pilih satu tipe varian secara acak
        random_type = variant_types_df.sample(1).iloc[0]
        type_name = random_type['name']

        # Buat 2-3 opsi untuk varian ini
        options = random.sample(options_by_type.get(type_name, []), k=random.randint(2,3))
        for option_name in options:
            variant_options_data.append({
                'id': 1000000 + option_id_counter,
                'variantTypeId': random_type['id'],
                'name': option_name,
                'price': random.randint(0, 50000),
                'status': random.choice(['ACTIVE', 'INACTIVE']),
                'createdAt': datetime.now(),
                'updatedAt': datetime.now(),
                'variantId': variant_id
            })
            option_id_counter += 1

    return pd.DataFrame(variant_options_data)

# Tabel variant_options
variant_options_df = generate_variant_options(variant_types_df, variants_df)
variant_options_df.to_csv('variant_options.csv', index=False)
print("Data variant_options.csv berhasil dibuat.")

pd.read_csv('variant_option.csv')

### 7. suppliers

# Membutuhkan data dari: tenants
def generate_suppliers(tenants_df, count=50):
    """Membuat data dummy untuk tabel suppliers."""
    suppliers_data = []
    for i in range(count):
        suppliers_data.append({
            'id': i + 1,
            'name': fake.company(),
            'tenantId': tenants_df.sample(1).iloc[0]['id'],
            'phoneNumber': fake.phone_number(),
            'email': fake.unique.company_email(),
            'address': fake.address(),
            'createdAt': datetime.now(),
            'updatedAt': datetime.now()
        })
    return pd.DataFrame(suppliers_data)

# Tabel suppliers
suppliers_df = generate_suppliers(tenants_df)
suppliers_df.to_csv('suppliers.csv', index=False)
print("Data suppliers.csv berhasil dibuat.")

pd.read_csv('suppliers.csv')

